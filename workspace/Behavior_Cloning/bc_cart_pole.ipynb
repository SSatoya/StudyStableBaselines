{
 "cells": [
  {
   "cell_type": "markdown",
   "id": "12b2fe16",
   "metadata": {},
   "source": [
    "# BC(Behavior Cloning)を使用した模倣学習\n",
    "- エキスパートの動作を模倣して学習するための一連の処理\n",
    "- 使用環境：CartPole（ポールが倒れないようにカートを動かす制御タスク）\n",
    "- 使用ライブラリ：imitation, stable-baselines3, gymnasium"
   ]
  },
  {
   "cell_type": "code",
   "execution_count": 1,
   "id": "c73a4802",
   "metadata": {},
   "outputs": [
    {
     "name": "stderr",
     "output_type": "stream",
     "text": [
      "/home/lilin/.local/lib/python3.10/site-packages/tqdm/auto.py:21: TqdmWarning: IProgress not found. Please update jupyter and ipywidgets. See https://ipywidgets.readthedocs.io/en/stable/user_install.html\n",
      "  from .autonotebook import tqdm as notebook_tqdm\n"
     ]
    }
   ],
   "source": [
    "import numpy as np\n",
    "import matplotlib.pyplot as plt\n",
    "import gymnasium as gym\n",
    "from stable_baselines3.common.evaluation import evaluate_policy  # ポリシーの評価を行うための関数\n",
    "\n",
    "from imitation.policies.serialize import load_policy  # 事前に学習されたポリシーをロードするための関数\n",
    "from imitation.util.util import make_vec_env  # ベクトル化された環境を作成するための関数\n",
    "from imitation.data.wrappers import RolloutInfoWrapper  # ロールアウト中に追加情報を保持できるラッパー"
   ]
  },
  {
   "cell_type": "markdown",
   "id": "1f9d7993",
   "metadata": {},
   "source": [
    "# step1. 環境作成\n",
    "- CartPole(カートとポール)タスクの環境を作成\n",
    "- \"seals\"は、SEALSベンチマーク環境"
   ]
  },
  {
   "cell_type": "code",
   "execution_count": null,
   "id": "28e303e2",
   "metadata": {},
   "outputs": [],
   "source": [
    "# 環境の設定\n",
    "env = make_vec_env(\n",
    "    \"seals:seals/CartPole-v0\",      # 使用する環境名\n",
    "    rng=np.random.default_rng(),    # Numpyの乱数生成器を指定\n",
    "    post_wrappers=[\n",
    "        lambda env, _: RolloutInfoWrapper(env)  # エピソードごとの情報（リターンなど）を取得できるようにラップ\n",
    "    ],  # needed for computing rollouts later\n",
    ")"
   ]
  },
  {
   "cell_type": "markdown",
   "id": "85dca73b",
   "metadata": {},
   "source": [
    "## step2. 事前学習済みのエキスパートポリシーをロード\n",
    "- Hugging Face上で公開されている、優れたPROアルゴリズムで学習されたポリシーをロード\n",
    "    - https://huggingface.co/HumanCompatibleAI\n",
    "\n",
    "- エキスパートが優秀か確認する\n",
    "- 通常、達成可能な最大値である500の報酬を取得できる"
   ]
  },
  {
   "cell_type": "code",
   "execution_count": 3,
   "id": "531b8f66",
   "metadata": {},
   "outputs": [
    {
     "name": "stderr",
     "output_type": "stream",
     "text": [
      "/home/lilin/anaconda3/envs/stable_baselines/lib/python3.10/site-packages/stable_baselines3/common/on_policy_algorithm.py:150: UserWarning: You are trying to run PPO on the GPU, but it is primarily intended to run on the CPU when not using a CNN policy (you are using ActorCriticPolicy which should be a MlpPolicy). See https://github.com/DLR-RM/stable-baselines3/issues/1245 for more info. You can pass `device='cpu'` or `export CUDA_VISIBLE_DEVICES=` to force using the CPU.Note: The model will train, but the GPU utilization will be poor and the training might take longer than on CPU.\n",
      "  warnings.warn(\n"
     ]
    },
    {
     "name": "stdout",
     "output_type": "stream",
     "text": [
      "エキスパートの平均報酬: 500.00\n"
     ]
    }
   ],
   "source": [
    "# ポリシーのロード\n",
    "expert = load_policy(\n",
    "    \"ppo-huggingface\",                  # 使用するポリシーの名前\n",
    "    organization=\"HumanCompatibleAI\",   # 公開している組織名\n",
    "    env_name=\"seals/CartPole-v0\",       # 環境名\n",
    "    venv=env,                           # 作成済みの環境を指定（ベクトル化済み）\n",
    ")\n",
    "\n",
    "# エキスパートポリシーの性能を確認（行動模倣する価値があるか？）\n",
    "# CartPole環境では最大報酬が500。これに近いスコアを出せていれば、十分に優秀。\n",
    "reward, _ = evaluate_policy(expert, env, 10)  # 10エピソード評価\n",
    "print(f\"エキスパートの平均報酬: {reward:.2f}\")"
   ]
  },
  {
   "cell_type": "markdown",
   "id": "c62870a0",
   "metadata": {},
   "source": [
    "## step3. エキスパートの行動データ（軌跡）を収集\n",
    "- 以上で、エキスパートを使って行動データをサンプリングできるようになった\n",
    "- 動作のクローン化に必要なのは個々の遷移だけなので、**平坦化する**\n",
    "    - `imitation`には、繊維の収集を非常に簡単にするエスパー関数が多数用意されている\n",
    "    - 最初に50エピソードのロールアウトを収集\n",
    "    - 次にトレーニングに必要な遷移だけ平坦化\n",
    "- `rollout`関数はベクトル化された環境を必要とする\n",
    "    - 注意：各環境の周囲に`RolloutInfoWrapper`が必要\n"
   ]
  },
  {
   "cell_type": "code",
   "execution_count": 4,
   "id": "de5aeda3",
   "metadata": {},
   "outputs": [
    {
     "name": "stdout",
     "output_type": "stream",
     "text": [
      "\n",
      "    ロールアウト関数は56個の<class 'imitation.data.types.TrajectoryWithRew'>のリストを生成しました。\n",
      "    このリストはフラット化後、28000個のトランザクションを含む<class 'imitation.data.types.Transitions'> オブジェクトに変換されました。\n",
      "    トランザクションオブジェクトには、次の配列が含まれています: obs, acts, infos, next_obs, dones.\n",
      "    \n"
     ]
    }
   ],
   "source": [
    "from imitation.data import rollout\n",
    "\n",
    "rng = np.random.default_rng()  # 別の乱数生成器\n",
    "\n",
    "# エキスパートに50エピソード分のプレイを行わせて、行動データを収集\n",
    "rollouts = rollout.rollout(\n",
    "    expert, # エキスパートポリシー\n",
    "    env,    # 環境\n",
    "    rollout.make_sample_until(min_timesteps=None, min_episodes=50),  # 50エピソード分のデータを収集するための条件\n",
    "    rng=rng,\n",
    ")\n",
    "\n",
    "# 軌跡を「遷移」（Transition）として扱いやすいようにフラットな構造に変換\n",
    "transitions = rollout.flatten_trajectories(rollouts)\n",
    "\n",
    "# 軌跡データの構造を確認\n",
    "print(\n",
    "    f\"\"\"\n",
    "    ロールアウト関数は{len(rollouts)}個の{type(rollouts[0])}のリストを生成しました。\n",
    "    このリストはフラット化後、{len(transitions)}個のトランザクションを含む{type(transitions)} オブジェクトに変換されました。\n",
    "    トランザクションオブジェクトには、次の配列が含まれています: {', '.join(transitions.__dict__.keys())}.\n",
    "    \"\"\"\n",
    ")"
   ]
  },
  {
   "cell_type": "markdown",
   "id": "a760526b",
   "metadata": {},
   "source": [
    "## step4. BCトレーナーの構築\n",
    "- 遷移を収集したら、動作の複製アルゴリズムを設定する"
   ]
  },
  {
   "cell_type": "code",
   "execution_count": 5,
   "id": "c4b0f905",
   "metadata": {},
   "outputs": [],
   "source": [
    "from imitation.algorithms import bc\n",
    "\n",
    "# 行動模倣（Behavior Cloning）アルゴリズムのインスタンスを作成\n",
    "# トレーニングデータとして、エキスパートのデモンストレーションデータを使用\n",
    "bc_trainer = bc.BC(\n",
    "    observation_space=env.observation_space,    # 環境の観測空間\n",
    "    action_space=env.action_space,              # 環境の行動空間（離散/連続）\n",
    "    demonstrations=transitions,                 # エキスパートのデモンストレーションデータ（遷移）\n",
    "    rng=rng,                                    # 乱数生成器 \n",
    "    device=\"cpu\",                               # 追加: すべてCPUで計算\n",
    ")"
   ]
  },
  {
   "cell_type": "markdown",
   "id": "1a66f8a3",
   "metadata": {},
   "source": [
    "- トレーニング前の模倣ポリシーの性能を確認する\n",
    "    - 当然、エキスパートには及ばなさい"
   ]
  },
  {
   "cell_type": "code",
   "execution_count": 6,
   "id": "eb5552c1",
   "metadata": {},
   "outputs": [
    {
     "name": "stdout",
     "output_type": "stream",
     "text": [
      "トレーニング前の報酬: 89.7\n"
     ]
    }
   ],
   "source": [
    "reward_before_training, _ = evaluate_policy(bc_trainer.policy, env, 10)\n",
    "print(f\"トレーニング前の報酬: {reward_before_training}\")"
   ]
  },
  {
   "cell_type": "markdown",
   "id": "6b2501ad",
   "metadata": {},
   "source": [
    "- トレーニング後は、エキスパートの報酬（500）に匹敵する"
   ]
  },
  {
   "cell_type": "code",
   "execution_count": 7,
   "id": "ad1e1d92",
   "metadata": {},
   "outputs": [
    {
     "name": "stderr",
     "output_type": "stream",
     "text": [
      "0batch [00:00, ?batch/s]"
     ]
    },
    {
     "name": "stdout",
     "output_type": "stream",
     "text": [
      "---------------------------------\n",
      "| batch_size        | 32        |\n",
      "| bc/               |           |\n",
      "|    batch          | 0         |\n",
      "|    ent_loss       | -0.000693 |\n",
      "|    entropy        | 0.693     |\n",
      "|    epoch          | 0         |\n",
      "|    l2_loss        | 0         |\n",
      "|    l2_norm        | 72.5      |\n",
      "|    loss           | 0.692     |\n",
      "|    neglogp        | 0.692     |\n",
      "|    prob_true_act  | 0.5       |\n",
      "|    samples_so_far | 32        |\n",
      "---------------------------------\n"
     ]
    },
    {
     "name": "stderr",
     "output_type": "stream",
     "text": [
      "467batch [00:01, 361.02batch/s]"
     ]
    },
    {
     "name": "stdout",
     "output_type": "stream",
     "text": [
      "---------------------------------\n",
      "| batch_size        | 32        |\n",
      "| bc/               |           |\n",
      "|    batch          | 500       |\n",
      "|    ent_loss       | -0.000241 |\n",
      "|    entropy        | 0.241     |\n",
      "|    epoch          | 0         |\n",
      "|    l2_loss        | 0         |\n",
      "|    l2_norm        | 95.3      |\n",
      "|    loss           | 0.126     |\n",
      "|    neglogp        | 0.126     |\n",
      "|    prob_true_act  | 0.897     |\n",
      "|    samples_so_far | 16032     |\n",
      "---------------------------------\n"
     ]
    },
    {
     "name": "stderr",
     "output_type": "stream",
     "text": [
      "875batch [00:02, 379.89batch/s]\n"
     ]
    },
    {
     "name": "stdout",
     "output_type": "stream",
     "text": [
      "トレーニング後の報酬: 500.0\n"
     ]
    }
   ],
   "source": [
    "# 実際に模倣学習を行う\n",
    "# 1エポックのトレーニングを実行\n",
    "# エポック数を増やすとよりよく学習されるが、時間がかかる\n",
    "bc_trainer.train(n_epochs=1)  # 1エポックのトレーニング\n",
    "\n",
    "# トレーニング後のポリシーを評価\n",
    "reward_after_training, _ = evaluate_policy(bc_trainer.policy, env, 10)  \n",
    "print(f\"トレーニング後の報酬: {reward_after_training}\")"
   ]
  },
  {
   "cell_type": "markdown",
   "id": "f3826944",
   "metadata": {},
   "source": [
    "# トレーニング後のエージェントの動作を動画で可視化"
   ]
  },
  {
   "cell_type": "code",
   "execution_count": 8,
   "id": "f3ada04b",
   "metadata": {},
   "outputs": [
    {
     "name": "stdout",
     "output_type": "stream",
     "text": [
      "Saving video to /home/lilin/satoya_ws/study_deep_learn/StudyStableBaselines/workspace/Behavior_Cloning/videos/bc_agent-step-0-to-step-500.mp4\n",
      "MoviePy - Building video /home/lilin/satoya_ws/study_deep_learn/StudyStableBaselines/workspace/Behavior_Cloning/videos/bc_agent-step-0-to-step-500.mp4.\n",
      "MoviePy - Writing video /home/lilin/satoya_ws/study_deep_learn/StudyStableBaselines/workspace/Behavior_Cloning/videos/bc_agent-step-0-to-step-500.mp4\n",
      "\n"
     ]
    },
    {
     "name": "stderr",
     "output_type": "stream",
     "text": [
      "                                                                          "
     ]
    },
    {
     "name": "stdout",
     "output_type": "stream",
     "text": [
      "MoviePy - Done !\n",
      "MoviePy - video ready /home/lilin/satoya_ws/study_deep_learn/StudyStableBaselines/workspace/Behavior_Cloning/videos/bc_agent-step-0-to-step-500.mp4\n",
      "動画を ./videos/ に保存しました。\n"
     ]
    },
    {
     "name": "stderr",
     "output_type": "stream",
     "text": [
      "\r"
     ]
    }
   ],
   "source": [
    "from stable_baselines3.common.vec_env import DummyVecEnv, VecVideoRecorder\n",
    "import os\n",
    "\n",
    "# 動画保存先ディレクトリ\n",
    "video_dir = \"./videos/\"\n",
    "os.makedirs(video_dir, exist_ok=True)\n",
    "\n",
    "# render_mode を \"rgb_array\" に設定して環境を作成\n",
    "video_env = DummyVecEnv([lambda: gym.make(\"CartPole-v1\", render_mode=\"rgb_array\")])\n",
    "\n",
    "# VecVideoRecorder でラップ\n",
    "video_env = VecVideoRecorder(\n",
    "    video_env,\n",
    "    video_folder=video_dir,\n",
    "    record_video_trigger=lambda step: step == 0,\n",
    "    video_length=500,\n",
    "    name_prefix=\"bc_agent\",\n",
    ")\n",
    "\n",
    "# ビヘイビアクローンされたエージェントのポリシーを使って実行\n",
    "obs = video_env.reset()\n",
    "done = False\n",
    "while not done:\n",
    "    action, _ = bc_trainer.policy.predict(obs)\n",
    "    obs, _, dones, _ = video_env.step(action)\n",
    "    done = dones[0]\n",
    "\n",
    "# 動画を保存\n",
    "video_env.close()\n",
    "print(f\"動画を {video_dir} に保存しました。\")\n"
   ]
  },
  {
   "cell_type": "code",
   "execution_count": 9,
   "id": "899fbdba",
   "metadata": {},
   "outputs": [
    {
     "data": {
      "text/html": [
       "<video controls  >\n",
       " <source src=\"data:video/mp4;base64,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\" type=\"video/mp4\">\n",
       " Your browser does not support the video tag.\n",
       " </video>"
      ],
      "text/plain": [
       "<IPython.core.display.Video object>"
      ]
     },
     "execution_count": 9,
     "metadata": {},
     "output_type": "execute_result"
    }
   ],
   "source": [
    "from IPython.display import Video\n",
    "\n",
    "# 動画ファイルのパス（例: bc_agent-step-0-to-step-500.mp4）\n",
    "video_path = os.path.join(video_dir, \"bc_agent-step-0-to-step-500.mp4\")\n",
    "Video(video_path, embed=True)"
   ]
  },
  {
   "cell_type": "markdown",
   "id": "d520b2b5",
   "metadata": {},
   "source": [
    "## 備考\n",
    "- Behavior Cloningは「観測 -> 行動」を**教師あり学習**で学習する手法\n",
    "- エキスパートの行動履歴（観測と対応する行動）を教師データとして使用\n",
    "- 強化学習のように、「報酬」から学ぶのではなく「正解の行動」を直接学ぶ\n",
    "    - エキスパートの質や量が非常に重要\n",
    "- SEALSの環境は、観測の安定性が保証されており、模倣学習に最適"
   ]
  },
  {
   "cell_type": "markdown",
   "id": "0852533d",
   "metadata": {},
   "source": [
    "# 参考\n",
    "https://imitation.readthedocs.io/en/latest/tutorials/1_train_bc.html"
   ]
  },
  {
   "cell_type": "markdown",
   "id": "db8d9502",
   "metadata": {},
   "source": []
  }
 ],
 "metadata": {
  "kernelspec": {
   "display_name": "stable_baselines",
   "language": "python",
   "name": "python3"
  },
  "language_info": {
   "codemirror_mode": {
    "name": "ipython",
    "version": 3
   },
   "file_extension": ".py",
   "mimetype": "text/x-python",
   "name": "python",
   "nbconvert_exporter": "python",
   "pygments_lexer": "ipython3",
   "version": "3.10.18"
  }
 },
 "nbformat": 4,
 "nbformat_minor": 5
}

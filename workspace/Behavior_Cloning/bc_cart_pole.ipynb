{
 "cells": [
  {
   "cell_type": "markdown",
   "id": "12b2fe16",
   "metadata": {},
   "source": [
    "# BC(Behavior Cloning)を使用した模倣学習\n",
    "- エキスパートの動作を模倣して学習するための一連の処理\n",
    "- 使用環境：CartPole（ポールが倒れないようにカートを動かす制御タスク）\n",
    "- 使用ライブラリ：imitation, stable-baselines3, gymnasium"
   ]
  },
  {
   "cell_type": "code",
   "execution_count": 2,
   "id": "c73a4802",
   "metadata": {},
   "outputs": [
    {
     "name": "stderr",
     "output_type": "stream",
     "text": [
      "/home/lilin/.local/lib/python3.10/site-packages/tqdm/auto.py:21: TqdmWarning: IProgress not found. Please update jupyter and ipywidgets. See https://ipywidgets.readthedocs.io/en/stable/user_install.html\n",
      "  from .autonotebook import tqdm as notebook_tqdm\n"
     ]
    }
   ],
   "source": [
    "import numpy as np\n",
    "import matplotlib.pyplot as plt\n",
    "import gymnasium as gym\n",
    "from stable_baselines3.common.evaluation import evaluate_policy  # ポリシーの評価を行うための関数\n",
    "\n",
    "from imitation.policies.serialize import load_policy  # 事前に学習されたポリシーをロードするための関数\n",
    "from imitation.util.util import make_vec_env  # ベクトル化された環境を作成するための関数\n",
    "from imitation.data.wrappers import RolloutInfoWrapper  # ロールアウト中に追加情報を保持できるラッパー"
   ]
  },
  {
   "cell_type": "markdown",
   "id": "1f9d7993",
   "metadata": {},
   "source": [
    "## step1. 環境作成\n",
    "- CartPole(カートとポール)タスクの環境を作成\n",
    "- \"seals\"は、SEALSベンチマーク環境"
   ]
  },
  {
   "cell_type": "code",
   "execution_count": 3,
   "id": "28e303e2",
   "metadata": {},
   "outputs": [],
   "source": [
    "# 環境の設定\n",
    "env = make_vec_env(\n",
    "    \"seals:seals/CartPole-v0\",      # 使用する環境名\n",
    "    rng=np.random.default_rng(),    # Numpyの乱数生成器を指定\n",
    "    post_wrappers=[\n",
    "        lambda env, _: RolloutInfoWrapper(env)  # エピソードごとの情報（リターンなど）を取得できるようにラップ\n",
    "    ],  # needed for computing rollouts later\n",
    ")"
   ]
  },
  {
   "cell_type": "markdown",
   "id": "85dca73b",
   "metadata": {},
   "source": [
    "## step2. 事前学習済みのエキスパートポリシーをロード\n",
    "- Hugging Face上で公開されている、優れたPROアルゴリズムで学習されたポリシーをロード\n",
    "    - https://huggingface.co/HumanCompatibleAI\n",
    "\n",
    "- エキスパートが優秀か確認する\n",
    "- 通常、達成可能な最大値である500の報酬を取得できる"
   ]
  },
  {
   "cell_type": "code",
   "execution_count": 4,
   "id": "531b8f66",
   "metadata": {},
   "outputs": [
    {
     "name": "stderr",
     "output_type": "stream",
     "text": [
      "/home/lilin/anaconda3/envs/stable_baselines/lib/python3.10/site-packages/stable_baselines3/common/on_policy_algorithm.py:150: UserWarning: You are trying to run PPO on the GPU, but it is primarily intended to run on the CPU when not using a CNN policy (you are using ActorCriticPolicy which should be a MlpPolicy). See https://github.com/DLR-RM/stable-baselines3/issues/1245 for more info. You can pass `device='cpu'` or `export CUDA_VISIBLE_DEVICES=` to force using the CPU.Note: The model will train, but the GPU utilization will be poor and the training might take longer than on CPU.\n",
      "  warnings.warn(\n"
     ]
    },
    {
     "name": "stdout",
     "output_type": "stream",
     "text": [
      "エキスパートの平均報酬: 500.00\n"
     ]
    }
   ],
   "source": [
    "# ポリシーのロード\n",
    "expert = load_policy(\n",
    "    \"ppo-huggingface\",                  # 使用するポリシーの名前\n",
    "    organization=\"HumanCompatibleAI\",   # 公開している組織名\n",
    "    env_name=\"seals/CartPole-v0\",       # 環境名\n",
    "    venv=env,                           # 作成済みの環境を指定（ベクトル化済み）\n",
    ")\n",
    "\n",
    "# エキスパートポリシーの性能を確認（行動模倣する価値があるか？）\n",
    "# CartPole環境では最大報酬が500。これに近いスコアを出せていれば、十分に優秀。\n",
    "reward, _ = evaluate_policy(expert, env, 10)  # 10エピソード評価\n",
    "print(f\"エキスパートの平均報酬: {reward:.2f}\")"
   ]
  },
  {
   "cell_type": "markdown",
   "id": "c62870a0",
   "metadata": {},
   "source": [
    "## step3. エキスパートの行動データ（軌跡）を収集\n",
    "- 以上で、エキスパートを使って行動データをサンプリングできるようになった\n",
    "- 動作のクローン化に必要なのは個々の遷移だけなので、**平坦化する**\n",
    "    - `imitation`には、繊維の収集を非常に簡単にするエスパー関数が多数用意されている\n",
    "    - 最初に50エピソードのロールアウトを収集\n",
    "    - 次にトレーニングに必要な遷移だけ平坦化\n",
    "- `rollout`関数はベクトル化された環境を必要とする\n",
    "    - 注意：各環境の周囲に`RolloutInfoWrapper`が必要\n"
   ]
  },
  {
   "cell_type": "code",
   "execution_count": 5,
   "id": "de5aeda3",
   "metadata": {},
   "outputs": [
    {
     "name": "stdout",
     "output_type": "stream",
     "text": [
      "\n",
      "    ロールアウト関数は56個の<class 'imitation.data.types.TrajectoryWithRew'>のリストを生成しました。\n",
      "    このリストはフラット化後、28000個のトランザクションを含む<class 'imitation.data.types.Transitions'> オブジェクトに変換されました。\n",
      "    トランザクションオブジェクトには、次の配列が含まれています: obs, acts, infos, next_obs, dones.\n",
      "    \n"
     ]
    }
   ],
   "source": [
    "from imitation.data import rollout\n",
    "\n",
    "rng = np.random.default_rng()  # 別の乱数生成器\n",
    "\n",
    "# エキスパートに50エピソード分のプレイを行わせて、行動データを収集\n",
    "rollouts = rollout.rollout(\n",
    "    expert, # エキスパートポリシー\n",
    "    env,    # 環境\n",
    "    rollout.make_sample_until(min_timesteps=None, min_episodes=50),  # 50エピソード分のデータを収集するための条件\n",
    "    rng=rng,\n",
    ")\n",
    "\n",
    "# 軌跡を「遷移」（Transition）として扱いやすいようにフラットな構造に変換\n",
    "transitions = rollout.flatten_trajectories(rollouts)\n",
    "\n",
    "# 軌跡データの構造を確認\n",
    "print(\n",
    "    f\"\"\"\n",
    "    ロールアウト関数は{len(rollouts)}個の{type(rollouts[0])}のリストを生成しました。\n",
    "    このリストはフラット化後、{len(transitions)}個のトランザクションを含む{type(transitions)} オブジェクトに変換されました。\n",
    "    トランザクションオブジェクトには、次の配列が含まれています: {', '.join(transitions.__dict__.keys())}.\n",
    "    \"\"\"\n",
    ")"
   ]
  },
  {
   "cell_type": "markdown",
   "id": "a760526b",
   "metadata": {},
   "source": [
    "## step4. BCトレーナーの構築\n",
    "- 遷移を収集したら、動作の複製アルゴリズムを設定する"
   ]
  },
  {
   "cell_type": "code",
   "execution_count": 6,
   "id": "c4b0f905",
   "metadata": {},
   "outputs": [],
   "source": [
    "from imitation.algorithms import bc\n",
    "\n",
    "# 行動模倣（Behavior Cloning）アルゴリズムのインスタンスを作成\n",
    "# トレーニングデータとして、エキスパートのデモンストレーションデータを使用\n",
    "bc_trainer = bc.BC(\n",
    "    observation_space=env.observation_space,    # 環境の観測空間\n",
    "    action_space=env.action_space,              # 環境の行動空間（離散/連続）\n",
    "    demonstrations=transitions,                 # エキスパートのデモンストレーションデータ（遷移）\n",
    "    rng=rng,                                    # 乱数生成器 \n",
    "    device=\"cpu\",                               # 追加: すべてCPUで計算\n",
    ")"
   ]
  },
  {
   "cell_type": "markdown",
   "id": "1a66f8a3",
   "metadata": {},
   "source": [
    "- トレーニング前の模倣ポリシーの性能を確認する\n",
    "    - 当然、エキスパートには及ばなさい"
   ]
  },
  {
   "cell_type": "code",
   "execution_count": 7,
   "id": "eb5552c1",
   "metadata": {},
   "outputs": [
    {
     "name": "stdout",
     "output_type": "stream",
     "text": [
      "トレーニング前の報酬: 89.7\n"
     ]
    }
   ],
   "source": [
    "reward_before_training, _ = evaluate_policy(bc_trainer.policy, env, 10)\n",
    "print(f\"トレーニング前の報酬: {reward_before_training}\")"
   ]
  },
  {
   "cell_type": "markdown",
   "id": "6b2501ad",
   "metadata": {},
   "source": [
    "- トレーニング後は、エキスパートの報酬（500）に匹敵する"
   ]
  },
  {
   "cell_type": "code",
   "execution_count": 8,
   "id": "ad1e1d92",
   "metadata": {},
   "outputs": [
    {
     "name": "stderr",
     "output_type": "stream",
     "text": [
      "0batch [00:00, ?batch/s]"
     ]
    },
    {
     "name": "stdout",
     "output_type": "stream",
     "text": [
      "---------------------------------\n",
      "| batch_size        | 32        |\n",
      "| bc/               |           |\n",
      "|    batch          | 0         |\n",
      "|    ent_loss       | -0.000693 |\n",
      "|    entropy        | 0.693     |\n",
      "|    epoch          | 0         |\n",
      "|    l2_loss        | 0         |\n",
      "|    l2_norm        | 72.5      |\n",
      "|    loss           | 0.692     |\n",
      "|    neglogp        | 0.692     |\n",
      "|    prob_true_act  | 0.5       |\n",
      "|    samples_so_far | 32        |\n",
      "---------------------------------\n"
     ]
    },
    {
     "name": "stderr",
     "output_type": "stream",
     "text": [
      "489batch [00:01, 344.16batch/s]"
     ]
    },
    {
     "name": "stdout",
     "output_type": "stream",
     "text": [
      "---------------------------------\n",
      "| batch_size        | 32        |\n",
      "| bc/               |           |\n",
      "|    batch          | 500       |\n",
      "|    ent_loss       | -0.000289 |\n",
      "|    entropy        | 0.289     |\n",
      "|    epoch          | 0         |\n",
      "|    l2_loss        | 0         |\n",
      "|    l2_norm        | 95        |\n",
      "|    loss           | 0.261     |\n",
      "|    neglogp        | 0.261     |\n",
      "|    prob_true_act  | 0.832     |\n",
      "|    samples_so_far | 16032     |\n",
      "---------------------------------\n"
     ]
    },
    {
     "name": "stderr",
     "output_type": "stream",
     "text": [
      "875batch [00:02, 362.26batch/s]\n"
     ]
    },
    {
     "name": "stdout",
     "output_type": "stream",
     "text": [
      "トレーニング後の報酬: 500.0\n"
     ]
    }
   ],
   "source": [
    "# 実際に模倣学習を行う\n",
    "# 1エポックのトレーニングを実行\n",
    "# エポック数を増やすとよりよく学習されるが、時間がかかる\n",
    "bc_trainer.train(n_epochs=1)  # 1エポックのトレーニング\n",
    "\n",
    "# トレーニング後のポリシーを評価\n",
    "reward_after_training, _ = evaluate_policy(bc_trainer.policy, env, 10)  \n",
    "print(f\"トレーニング後の報酬: {reward_after_training}\")"
   ]
  },
  {
   "cell_type": "markdown",
   "id": "f3826944",
   "metadata": {},
   "source": [
    "# トレーニング後のエージェントの動作を動画で可視化"
   ]
  },
  {
   "cell_type": "code",
   "execution_count": 9,
   "id": "f3ada04b",
   "metadata": {},
   "outputs": [
    {
     "name": "stdout",
     "output_type": "stream",
     "text": [
      "Saving video to /home/lilin/satoya_ws/study_deep_learn/StudyStableBaselines/workspace/Behavior_Cloning/videos/bc_cartpole-step-0-to-step-500.mp4\n",
      "MoviePy - Building video /home/lilin/satoya_ws/study_deep_learn/StudyStableBaselines/workspace/Behavior_Cloning/videos/bc_cartpole-step-0-to-step-500.mp4.\n",
      "MoviePy - Writing video /home/lilin/satoya_ws/study_deep_learn/StudyStableBaselines/workspace/Behavior_Cloning/videos/bc_cartpole-step-0-to-step-500.mp4\n",
      "\n"
     ]
    },
    {
     "name": "stderr",
     "output_type": "stream",
     "text": [
      "                                                                          "
     ]
    },
    {
     "name": "stdout",
     "output_type": "stream",
     "text": [
      "MoviePy - Done !\n",
      "MoviePy - video ready /home/lilin/satoya_ws/study_deep_learn/StudyStableBaselines/workspace/Behavior_Cloning/videos/bc_cartpole-step-0-to-step-500.mp4\n",
      "動画を ./videos/ に保存しました。\n"
     ]
    },
    {
     "name": "stderr",
     "output_type": "stream",
     "text": [
      "\r"
     ]
    }
   ],
   "source": [
    "from stable_baselines3.common.vec_env import DummyVecEnv, VecVideoRecorder\n",
    "import os\n",
    "\n",
    "# 動画保存先ディレクトリ\n",
    "video_dir = \"./videos/\"\n",
    "os.makedirs(video_dir, exist_ok=True)\n",
    "\n",
    "# render_mode を \"rgb_array\" に設定して環境を作成\n",
    "video_env = DummyVecEnv([lambda: gym.make(\"CartPole-v1\", render_mode=\"rgb_array\")])\n",
    "\n",
    "# VecVideoRecorder でラップ\n",
    "video_env = VecVideoRecorder(\n",
    "    video_env,\n",
    "    video_folder=video_dir,\n",
    "    record_video_trigger=lambda step: step == 0,\n",
    "    video_length=500,\n",
    "    name_prefix=\"bc_cartpole\",\n",
    ")\n",
    "\n",
    "# ビヘイビアクローンされたエージェントのポリシーを使って実行\n",
    "obs = video_env.reset()\n",
    "done = False\n",
    "while not done:\n",
    "    action, _ = bc_trainer.policy.predict(obs)\n",
    "    obs, _, dones, _ = video_env.step(action)\n",
    "    done = dones[0]\n",
    "\n",
    "# 動画を保存\n",
    "video_env.close()\n",
    "print(f\"動画を {video_dir} に保存しました。\")\n"
   ]
  },
  {
   "cell_type": "code",
   "execution_count": 11,
   "id": "899fbdba",
   "metadata": {},
   "outputs": [
    {
     "data": {
      "text/html": [
       "<video controls  >\n",
       " <source src=\"data:video/mp4;base64,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\" type=\"video/mp4\">\n",
       " Your browser does not support the video tag.\n",
       " </video>"
      ],
      "text/plain": [
       "<IPython.core.display.Video object>"
      ]
     },
     "execution_count": 11,
     "metadata": {},
     "output_type": "execute_result"
    }
   ],
   "source": [
    "from IPython.display import Video\n",
    "\n",
    "# 動画ファイルのパス（例: bc_agent-step-0-to-step-500.mp4）\n",
    "video_path = os.path.join(video_dir, \"bc_cartpole-step-0-to-step-500.mp4\")\n",
    "Video(video_path, embed=True)"
   ]
  },
  {
   "cell_type": "markdown",
   "id": "d520b2b5",
   "metadata": {},
   "source": [
    "## 備考\n",
    "- Behavior Cloningは「観測 -> 行動」を**教師あり学習**で学習する手法\n",
    "- エキスパートの行動履歴（観測と対応する行動）を教師データとして使用\n",
    "- 強化学習のように、「報酬」から学ぶのではなく「正解の行動」を直接学ぶ\n",
    "    - エキスパートの質や量が非常に重要\n",
    "- SEALSの環境は、観測の安定性が保証されており、模倣学習に最適"
   ]
  },
  {
   "cell_type": "markdown",
   "id": "0852533d",
   "metadata": {},
   "source": [
    "# 参考\n",
    "https://imitation.readthedocs.io/en/latest/tutorials/1_train_bc.html"
   ]
  },
  {
   "cell_type": "markdown",
   "id": "db8d9502",
   "metadata": {},
   "source": []
  }
 ],
 "metadata": {
  "kernelspec": {
   "display_name": "stable_baselines",
   "language": "python",
   "name": "python3"
  },
  "language_info": {
   "codemirror_mode": {
    "name": "ipython",
    "version": 3
   },
   "file_extension": ".py",
   "mimetype": "text/x-python",
   "name": "python",
   "nbconvert_exporter": "python",
   "pygments_lexer": "ipython3",
   "version": "3.10.18"
  }
 },
 "nbformat": 4,
 "nbformat_minor": 5
}

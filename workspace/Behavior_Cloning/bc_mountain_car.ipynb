{
 "cells": [
  {
   "cell_type": "markdown",
   "id": "12b2fe16",
   "metadata": {},
   "source": [
    "# BC(Behavior Cloning)を使用した模倣学習\n",
    "- エキスパートの動作を模倣して学習するための一連の処理\n",
    "- 使用環境：MountainCar（車が坂の上のゴールまで行けるようにするタスク）\n",
    "- 使用ライブラリ：imitation, stable-baselines3, gymnasium"
   ]
  },
  {
   "cell_type": "code",
   "execution_count": 1,
   "id": "c73a4802",
   "metadata": {},
   "outputs": [
    {
     "name": "stderr",
     "output_type": "stream",
     "text": [
      "/home/lilin/.local/lib/python3.10/site-packages/tqdm/auto.py:21: TqdmWarning: IProgress not found. Please update jupyter and ipywidgets. See https://ipywidgets.readthedocs.io/en/stable/user_install.html\n",
      "  from .autonotebook import tqdm as notebook_tqdm\n"
     ]
    }
   ],
   "source": [
    "import numpy as np\n",
    "import matplotlib.pyplot as plt\n",
    "import gymnasium as gym\n",
    "from stable_baselines3.common.evaluation import evaluate_policy  # ポリシーの評価を行うための関数\n",
    "\n",
    "from imitation.policies.serialize import load_policy  # 事前に学習されたポリシーをロードするための関数\n",
    "from imitation.util.util import make_vec_env  # ベクトル化された環境を作成するための関数\n",
    "from imitation.data.wrappers import RolloutInfoWrapper  # ロールアウト中に追加情報を保持できるラッパー"
   ]
  },
  {
   "cell_type": "markdown",
   "id": "1f9d7993",
   "metadata": {},
   "source": [
    "## step1. 環境作成\n",
    "- CartPole(カートとポール)タスクの環境を作成\n",
    "- \"seals\"は、SEALSベンチマーク環境"
   ]
  },
  {
   "cell_type": "code",
   "execution_count": 2,
   "id": "28e303e2",
   "metadata": {},
   "outputs": [],
   "source": [
    "# 環境の設定\n",
    "env = make_vec_env(\n",
    "    \"seals:seals/MountainCar-v0\",      # 使用する環境名\n",
    "    rng=np.random.default_rng(),    # Numpyの乱数生成器を指定\n",
    "    post_wrappers=[\n",
    "        lambda env, _: RolloutInfoWrapper(env)  # エピソードごとの情報（リターンなど）を取得できるようにラップ\n",
    "    ],  # needed for computing rollouts later\n",
    ")"
   ]
  },
  {
   "cell_type": "markdown",
   "id": "85dca73b",
   "metadata": {},
   "source": [
    "## step2. 事前学習済みのエキスパートポリシーをロード\n",
    "- Hugging Face上で公開されている、優れたPROアルゴリズムで学習されたポリシーをロード\n",
    "    - https://huggingface.co/HumanCompatibleAI\n",
    "\n",
    "- エキスパートが優秀か確認する\n",
    "- 通常、達成可能な最大値である500の報酬を取得できる"
   ]
  },
  {
   "cell_type": "code",
   "execution_count": null,
   "id": "531b8f66",
   "metadata": {},
   "outputs": [
    {
     "name": "stdout",
     "output_type": "stream",
     "text": [
      "エキスパートの平均報酬: -97.90\n"
     ]
    }
   ],
   "source": [
    "# ポリシーのロード\n",
    "expert = load_policy(\n",
    "    \"ppo-huggingface\",                  # 使用するポリシーの名前\n",
    "    organization=\"HumanCompatibleAI\",   # 公開している組織名\n",
    "    env_name=\"seals/MountainCar-v0\",       # 環境名\n",
    "    venv=env,                           # 作成済みの環境を指定（ベクトル化済み）\n",
    ")\n",
    "\n",
    "# エキスパートポリシーの性能を確認（行動模倣する価値があるか？）\n",
    "reward, _ = evaluate_policy(expert, env, 10)  # 10エピソード評価\n",
    "print(f\"エキスパートの平均報酬: {reward:.2f}\")"
   ]
  },
  {
   "cell_type": "markdown",
   "id": "c62870a0",
   "metadata": {},
   "source": [
    "## step3. エキスパートの行動データ（軌跡）を収集\n",
    "- 以上で、エキスパートを使って行動データをサンプリングできるようになった\n",
    "- 動作のクローン化に必要なのは個々の遷移だけなので、**平坦化する**\n",
    "    - `imitation`には、繊維の収集を非常に簡単にするエスパー関数が多数用意されている\n",
    "    - 最初に50エピソードのロールアウトを収集\n",
    "    - 次にトレーニングに必要な遷移だけ平坦化\n",
    "- `rollout`関数はベクトル化された環境を必要とする\n",
    "    - 注意：各環境の周囲に`RolloutInfoWrapper`が必要\n"
   ]
  },
  {
   "cell_type": "code",
   "execution_count": 4,
   "id": "de5aeda3",
   "metadata": {},
   "outputs": [
    {
     "name": "stdout",
     "output_type": "stream",
     "text": [
      "\n",
      "    ロールアウト関数は56個の<class 'imitation.data.types.TrajectoryWithRew'>のリストを生成しました。\n",
      "    このリストはフラット化後、11200個のトランザクションを含む<class 'imitation.data.types.Transitions'> オブジェクトに変換されました。\n",
      "    トランザクションオブジェクトには、次の配列が含まれています: obs, acts, infos, next_obs, dones.\n",
      "    \n"
     ]
    }
   ],
   "source": [
    "from imitation.data import rollout\n",
    "\n",
    "rng = np.random.default_rng()  # 別の乱数生成器\n",
    "\n",
    "# エキスパートに50エピソード分のプレイを行わせて、行動データを収集\n",
    "rollouts = rollout.rollout(\n",
    "    expert, # エキスパートポリシー\n",
    "    env,    # 環境\n",
    "    rollout.make_sample_until(min_timesteps=None, min_episodes=50),  # 50エピソード分のデータを収集するための条件\n",
    "    rng=rng,\n",
    ")\n",
    "\n",
    "# 軌跡を「遷移」（Transition）として扱いやすいようにフラットな構造に変換\n",
    "transitions = rollout.flatten_trajectories(rollouts)\n",
    "\n",
    "# 軌跡データの構造を確認\n",
    "print(\n",
    "    f\"\"\"\n",
    "    ロールアウト関数は{len(rollouts)}個の{type(rollouts[0])}のリストを生成しました。\n",
    "    このリストはフラット化後、{len(transitions)}個のトランザクションを含む{type(transitions)} オブジェクトに変換されました。\n",
    "    トランザクションオブジェクトには、次の配列が含まれています: {', '.join(transitions.__dict__.keys())}.\n",
    "    \"\"\"\n",
    ")"
   ]
  },
  {
   "cell_type": "markdown",
   "id": "a760526b",
   "metadata": {},
   "source": [
    "## step4. BCトレーナーの構築\n",
    "- 遷移を収集したら、動作の複製アルゴリズムを設定する"
   ]
  },
  {
   "cell_type": "code",
   "execution_count": 5,
   "id": "c4b0f905",
   "metadata": {},
   "outputs": [],
   "source": [
    "from imitation.algorithms import bc\n",
    "\n",
    "# 行動模倣（Behavior Cloning）アルゴリズムのインスタンスを作成\n",
    "# トレーニングデータとして、エキスパートのデモンストレーションデータを使用\n",
    "bc_trainer = bc.BC(\n",
    "    observation_space=env.observation_space,    # 環境の観測空間\n",
    "    action_space=env.action_space,              # 環境の行動空間（離散/連続）\n",
    "    demonstrations=transitions,                 # エキスパートのデモンストレーションデータ（遷移）\n",
    "    rng=rng,                                    # 乱数生成器 \n",
    "    device=\"cpu\",                               # 追加: すべてCPUで計算\n",
    ")"
   ]
  },
  {
   "cell_type": "markdown",
   "id": "1a66f8a3",
   "metadata": {},
   "source": [
    "- トレーニング前の模倣ポリシーの性能を確認する\n",
    "    - 当然、エキスパートには及ばなさい"
   ]
  },
  {
   "cell_type": "code",
   "execution_count": 6,
   "id": "eb5552c1",
   "metadata": {},
   "outputs": [
    {
     "name": "stdout",
     "output_type": "stream",
     "text": [
      "トレーニング前の報酬: -200.0\n"
     ]
    }
   ],
   "source": [
    "reward_before_training, _ = evaluate_policy(bc_trainer.policy, env, 10)\n",
    "print(f\"トレーニング前の報酬: {reward_before_training}\")"
   ]
  },
  {
   "cell_type": "markdown",
   "id": "6b2501ad",
   "metadata": {},
   "source": [
    "- トレーニング後は、エキスパートの報酬（500）に匹敵する"
   ]
  },
  {
   "cell_type": "code",
   "execution_count": 38,
   "id": "ad1e1d92",
   "metadata": {},
   "outputs": [
    {
     "name": "stderr",
     "output_type": "stream",
     "text": [
      "0batch [00:00, ?batch/s]"
     ]
    },
    {
     "name": "stdout",
     "output_type": "stream",
     "text": [
      "---------------------------------\n",
      "| batch_size        | 32        |\n",
      "| bc/               |           |\n",
      "|    batch          | 0         |\n",
      "|    ent_loss       | -6.98e-05 |\n",
      "|    entropy        | 0.0698    |\n",
      "|    epoch          | 0         |\n",
      "|    l2_loss        | 0         |\n",
      "|    l2_norm        | 477       |\n",
      "|    loss           | 0.0383    |\n",
      "|    neglogp        | 0.0384    |\n",
      "|    prob_true_act  | 0.971     |\n",
      "|    samples_so_far | 32        |\n",
      "---------------------------------\n"
     ]
    },
    {
     "name": "stderr",
     "output_type": "stream",
     "text": [
      "478batch [00:01, 338.47batch/s]"
     ]
    },
    {
     "name": "stdout",
     "output_type": "stream",
     "text": [
      "---------------------------------\n",
      "| batch_size        | 32        |\n",
      "| bc/               |           |\n",
      "|    batch          | 500       |\n",
      "|    ent_loss       | -5.48e-05 |\n",
      "|    entropy        | 0.0548    |\n",
      "|    epoch          | 1         |\n",
      "|    l2_loss        | 0         |\n",
      "|    l2_norm        | 503       |\n",
      "|    loss           | 0.0199    |\n",
      "|    neglogp        | 0.0199    |\n",
      "|    prob_true_act  | 0.982     |\n",
      "|    samples_so_far | 16032     |\n",
      "---------------------------------\n"
     ]
    },
    {
     "name": "stderr",
     "output_type": "stream",
     "text": [
      "981batch [00:02, 356.48batch/s]"
     ]
    },
    {
     "name": "stdout",
     "output_type": "stream",
     "text": [
      "---------------------------------\n",
      "| batch_size        | 32        |\n",
      "| bc/               |           |\n",
      "|    batch          | 1000      |\n",
      "|    ent_loss       | -8.12e-05 |\n",
      "|    entropy        | 0.0812    |\n",
      "|    epoch          | 2         |\n",
      "|    l2_loss        | 0         |\n",
      "|    l2_norm        | 527       |\n",
      "|    loss           | 0.042     |\n",
      "|    neglogp        | 0.0421    |\n",
      "|    prob_true_act  | 0.965     |\n",
      "|    samples_so_far | 32032     |\n",
      "---------------------------------\n"
     ]
    },
    {
     "name": "stderr",
     "output_type": "stream",
     "text": [
      "1484batch [00:04, 351.30batch/s]"
     ]
    },
    {
     "name": "stdout",
     "output_type": "stream",
     "text": [
      "---------------------------------\n",
      "| batch_size        | 32        |\n",
      "| bc/               |           |\n",
      "|    batch          | 1500      |\n",
      "|    ent_loss       | -5.33e-05 |\n",
      "|    entropy        | 0.0533    |\n",
      "|    epoch          | 4         |\n",
      "|    l2_loss        | 0         |\n",
      "|    l2_norm        | 550       |\n",
      "|    loss           | 0.0173    |\n",
      "|    neglogp        | 0.0173    |\n",
      "|    prob_true_act  | 0.984     |\n",
      "|    samples_so_far | 48032     |\n",
      "---------------------------------\n"
     ]
    },
    {
     "name": "stderr",
     "output_type": "stream",
     "text": [
      "1986batch [00:06, 334.53batch/s]"
     ]
    },
    {
     "name": "stdout",
     "output_type": "stream",
     "text": [
      "---------------------------------\n",
      "| batch_size        | 32        |\n",
      "| bc/               |           |\n",
      "|    batch          | 2000      |\n",
      "|    ent_loss       | -4.78e-05 |\n",
      "|    entropy        | 0.0478    |\n",
      "|    epoch          | 5         |\n",
      "|    l2_loss        | 0         |\n",
      "|    l2_norm        | 571       |\n",
      "|    loss           | 0.0422    |\n",
      "|    neglogp        | 0.0422    |\n",
      "|    prob_true_act  | 0.972     |\n",
      "|    samples_so_far | 64032     |\n",
      "---------------------------------\n"
     ]
    },
    {
     "name": "stderr",
     "output_type": "stream",
     "text": [
      "2487batch [00:07, 353.79batch/s]"
     ]
    },
    {
     "name": "stdout",
     "output_type": "stream",
     "text": [
      "---------------------------------\n",
      "| batch_size        | 32        |\n",
      "| bc/               |           |\n",
      "|    batch          | 2500      |\n",
      "|    ent_loss       | -9.02e-06 |\n",
      "|    entropy        | 0.00902   |\n",
      "|    epoch          | 7         |\n",
      "|    l2_loss        | 0         |\n",
      "|    l2_norm        | 590       |\n",
      "|    loss           | 0.00133   |\n",
      "|    neglogp        | 0.00134   |\n",
      "|    prob_true_act  | 0.999     |\n",
      "|    samples_so_far | 80032     |\n",
      "---------------------------------\n"
     ]
    },
    {
     "name": "stderr",
     "output_type": "stream",
     "text": [
      "2991batch [00:08, 355.59batch/s]"
     ]
    },
    {
     "name": "stdout",
     "output_type": "stream",
     "text": [
      "---------------------------------\n",
      "| batch_size        | 32        |\n",
      "| bc/               |           |\n",
      "|    batch          | 3000      |\n",
      "|    ent_loss       | -1.49e-05 |\n",
      "|    entropy        | 0.0149    |\n",
      "|    epoch          | 8         |\n",
      "|    l2_loss        | 0         |\n",
      "|    l2_norm        | 609       |\n",
      "|    loss           | 0.00409   |\n",
      "|    neglogp        | 0.0041    |\n",
      "|    prob_true_act  | 0.996     |\n",
      "|    samples_so_far | 96032     |\n",
      "---------------------------------\n"
     ]
    },
    {
     "name": "stderr",
     "output_type": "stream",
     "text": [
      "3500batch [00:10, 334.24batch/s]\n"
     ]
    },
    {
     "name": "stdout",
     "output_type": "stream",
     "text": [
      "トレーニング後の報酬: -98.8\n"
     ]
    }
   ],
   "source": [
    "# 実際に模倣学習を行う\n",
    "# 1エポックのトレーニングを実行\n",
    "# エポック数を増やすとよりよく学習されるが、時間がかかる\n",
    "bc_trainer.train(n_epochs=10)  # 1エポックのトレーニング\n",
    "\n",
    "# トレーニング後のポリシーを評価\n",
    "reward_after_training, _ = evaluate_policy(bc_trainer.policy, env, 10)  \n",
    "print(f\"トレーニング後の報酬: {reward_after_training}\")"
   ]
  },
  {
   "cell_type": "markdown",
   "id": "f3826944",
   "metadata": {},
   "source": [
    "# トレーニング後のエージェントの動作を動画で可視化"
   ]
  },
  {
   "cell_type": "code",
   "execution_count": 39,
   "id": "f3ada04b",
   "metadata": {},
   "outputs": [
    {
     "name": "stdout",
     "output_type": "stream",
     "text": [
      "MoviePy - Building video /home/lilin/satoya_ws/study_deep_learn/StudyStableBaselines/workspace/Behavior_Cloning/videos/bc_mountaincar_video-step-0-to-step-600.mp4.\n",
      "MoviePy - Writing video /home/lilin/satoya_ws/study_deep_learn/StudyStableBaselines/workspace/Behavior_Cloning/videos/bc_mountaincar_video-step-0-to-step-600.mp4\n",
      "\n"
     ]
    },
    {
     "name": "stderr",
     "output_type": "stream",
     "text": [
      "                                                              "
     ]
    },
    {
     "name": "stdout",
     "output_type": "stream",
     "text": [
      "MoviePy - Done !\n",
      "MoviePy - video ready /home/lilin/satoya_ws/study_deep_learn/StudyStableBaselines/workspace/Behavior_Cloning/videos/bc_mountaincar_video-step-0-to-step-600.mp4\n",
      "動画を ./videos/ に保存しました。\n"
     ]
    },
    {
     "name": "stderr",
     "output_type": "stream",
     "text": [
      "\r"
     ]
    }
   ],
   "source": [
    "from stable_baselines3.common.vec_env import DummyVecEnv, VecVideoRecorder\n",
    "import os\n",
    "\n",
    "# 動画保存先ディレクトリ\n",
    "video_dir = \"./videos/\"\n",
    "os.makedirs(video_dir, exist_ok=True)\n",
    "\n",
    "# render_mode を \"rgb_array\" に設定して環境を作成\n",
    "video_env = DummyVecEnv([lambda: gym.make(\"MountainCar-v0\", render_mode=\"rgb_array\")])\n",
    "\n",
    "# VecVideoRecorder でラップ\n",
    "video_env = VecVideoRecorder(\n",
    "    video_env,\n",
    "    video_folder=video_dir,\n",
    "    record_video_trigger=lambda step: step == 0,\n",
    "    video_length=600,\n",
    "    name_prefix=\"bc_mountaincar_video\",\n",
    ")\n",
    "\n",
    "# ビヘイビアクローンされたエージェントのポリシーを使って実行\n",
    "obs = video_env.reset()\n",
    "done = False\n",
    "while not done:\n",
    "    action, _ = bc_trainer.policy.predict(obs)\n",
    "    obs, _, dones, _ = video_env.step(action)\n",
    "    done = dones[0]\n",
    "\n",
    "# 動画を保存\n",
    "video_env.close()\n",
    "print(f\"動画を {video_dir} に保存しました。\")\n"
   ]
  },
  {
   "cell_type": "code",
   "execution_count": 40,
   "id": "899fbdba",
   "metadata": {},
   "outputs": [
    {
     "data": {
      "text/html": [
       "<video controls  >\n",
       " <source src=\"data:video/mp4;base64,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\" type=\"video/mp4\">\n",
       " Your browser does not support the video tag.\n",
       " </video>"
      ],
      "text/plain": [
       "<IPython.core.display.Video object>"
      ]
     },
     "execution_count": 40,
     "metadata": {},
     "output_type": "execute_result"
    }
   ],
   "source": [
    "from IPython.display import Video\n",
    "\n",
    "# 動画ファイルのパス（例: bc_agent-step-0-to-step-500.mp4）\n",
    "video_path = os.path.join(video_dir, \"bc_mountaincar_video-step-0-to-step-600.mp4\")\n",
    "Video(video_path, embed=True)"
   ]
  },
  {
   "cell_type": "markdown",
   "id": "d520b2b5",
   "metadata": {},
   "source": [
    "## 備考\n",
    "- Behavior Cloningは「観測 -> 行動」を**教師あり学習**で学習する手法\n",
    "- エキスパートの行動履歴（観測と対応する行動）を教師データとして使用\n",
    "- 強化学習のように、「報酬」から学ぶのではなく「正解の行動」を直接学ぶ\n",
    "    - エキスパートの質や量が非常に重要\n",
    "- SEALSの環境は、観測の安定性が保証されており、模倣学習に最適"
   ]
  },
  {
   "cell_type": "markdown",
   "id": "0852533d",
   "metadata": {},
   "source": [
    "# 参考\n",
    "https://imitation.readthedocs.io/en/latest/tutorials/1_train_bc.html"
   ]
  },
  {
   "cell_type": "markdown",
   "id": "db8d9502",
   "metadata": {},
   "source": []
  }
 ],
 "metadata": {
  "kernelspec": {
   "display_name": "stable_baselines",
   "language": "python",
   "name": "python3"
  },
  "language_info": {
   "codemirror_mode": {
    "name": "ipython",
    "version": 3
   },
   "file_extension": ".py",
   "mimetype": "text/x-python",
   "name": "python",
   "nbconvert_exporter": "python",
   "pygments_lexer": "ipython3",
   "version": "3.10.18"
  }
 },
 "nbformat": 4,
 "nbformat_minor": 5
}

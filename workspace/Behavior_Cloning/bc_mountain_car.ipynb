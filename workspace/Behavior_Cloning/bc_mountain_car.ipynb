{
 "cells": [
  {
   "cell_type": "markdown",
   "id": "12b2fe16",
   "metadata": {},
   "source": [
    "# BC(Behavior Cloning)を使用した模倣学習\n",
    "- エキスパートの動作を模倣して学習するための一連の処理\n",
    "- 使用環境：MountainCar（車が坂の上のゴールまで行けるようにするタスク）\n",
    "- 使用ライブラリ：imitation, stable-baselines3, gymnasium"
   ]
  },
  {
   "cell_type": "code",
   "execution_count": 1,
   "id": "c73a4802",
   "metadata": {},
   "outputs": [
    {
     "name": "stderr",
     "output_type": "stream",
     "text": [
      "/home/lilin/.local/lib/python3.10/site-packages/tqdm/auto.py:21: TqdmWarning: IProgress not found. Please update jupyter and ipywidgets. See https://ipywidgets.readthedocs.io/en/stable/user_install.html\n",
      "  from .autonotebook import tqdm as notebook_tqdm\n"
     ]
    }
   ],
   "source": [
    "import numpy as np\n",
    "import matplotlib.pyplot as plt\n",
    "import gymnasium as gym\n",
    "from stable_baselines3.common.evaluation import evaluate_policy  # ポリシーの評価を行うための関数\n",
    "\n",
    "from imitation.policies.serialize import load_policy  # 事前に学習されたポリシーをロードするための関数\n",
    "from imitation.util.util import make_vec_env  # ベクトル化された環境を作成するための関数\n",
    "from imitation.data.wrappers import RolloutInfoWrapper  # ロールアウト中に追加情報を保持できるラッパー"
   ]
  },
  {
   "cell_type": "markdown",
   "id": "1f9d7993",
   "metadata": {},
   "source": [
    "# step1. 環境作成\n",
    "- CartPole(カートとポール)タスクの環境を作成\n",
    "- \"seals\"は、SEALSベンチマーク環境"
   ]
  },
  {
   "cell_type": "code",
   "execution_count": 2,
   "id": "28e303e2",
   "metadata": {},
   "outputs": [],
   "source": [
    "# 環境の設定\n",
    "env = make_vec_env(\n",
    "    \"seals:seals/MountainCar-v0\",      # 使用する環境名\n",
    "    rng=np.random.default_rng(),    # Numpyの乱数生成器を指定\n",
    "    post_wrappers=[\n",
    "        lambda env, _: RolloutInfoWrapper(env)  # エピソードごとの情報（リターンなど）を取得できるようにラップ\n",
    "    ],  # needed for computing rollouts later\n",
    ")"
   ]
  },
  {
   "cell_type": "markdown",
   "id": "85dca73b",
   "metadata": {},
   "source": [
    "## step2. 事前学習済みのエキスパートポリシーをロード\n",
    "- Hugging Face上で公開されている、優れたPROアルゴリズムで学習されたポリシーをロード\n",
    "    - https://huggingface.co/HumanCompatibleAI\n",
    "\n",
    "- エキスパートが優秀か確認する\n",
    "- 通常、達成可能な最大値である500の報酬を取得できる"
   ]
  },
  {
   "cell_type": "code",
   "execution_count": null,
   "id": "531b8f66",
   "metadata": {},
   "outputs": [
    {
     "name": "stdout",
     "output_type": "stream",
     "text": [
      "エキスパートの平均報酬: -97.90\n"
     ]
    }
   ],
   "source": [
    "# ポリシーのロード\n",
    "expert = load_policy(\n",
    "    \"ppo-huggingface\",                  # 使用するポリシーの名前\n",
    "    organization=\"HumanCompatibleAI\",   # 公開している組織名\n",
    "    env_name=\"seals/MountainCar-v0\",       # 環境名\n",
    "    venv=env,                           # 作成済みの環境を指定（ベクトル化済み）\n",
    ")\n",
    "\n",
    "# エキスパートポリシーの性能を確認（行動模倣する価値があるか？）\n",
    "reward, _ = evaluate_policy(expert, env, 10)  # 10エピソード評価\n",
    "print(f\"エキスパートの平均報酬: {reward:.2f}\")"
   ]
  },
  {
   "cell_type": "markdown",
   "id": "c62870a0",
   "metadata": {},
   "source": [
    "## step3. エキスパートの行動データ（軌跡）を収集\n",
    "- 以上で、エキスパートを使って行動データをサンプリングできるようになった\n",
    "- 動作のクローン化に必要なのは個々の遷移だけなので、**平坦化する**\n",
    "    - `imitation`には、繊維の収集を非常に簡単にするエスパー関数が多数用意されている\n",
    "    - 最初に50エピソードのロールアウトを収集\n",
    "    - 次にトレーニングに必要な遷移だけ平坦化\n",
    "- `rollout`関数はベクトル化された環境を必要とする\n",
    "    - 注意：各環境の周囲に`RolloutInfoWrapper`が必要\n"
   ]
  },
  {
   "cell_type": "code",
   "execution_count": 4,
   "id": "de5aeda3",
   "metadata": {},
   "outputs": [
    {
     "name": "stdout",
     "output_type": "stream",
     "text": [
      "\n",
      "    ロールアウト関数は56個の<class 'imitation.data.types.TrajectoryWithRew'>のリストを生成しました。\n",
      "    このリストはフラット化後、11200個のトランザクションを含む<class 'imitation.data.types.Transitions'> オブジェクトに変換されました。\n",
      "    トランザクションオブジェクトには、次の配列が含まれています: obs, acts, infos, next_obs, dones.\n",
      "    \n"
     ]
    }
   ],
   "source": [
    "from imitation.data import rollout\n",
    "\n",
    "rng = np.random.default_rng()  # 別の乱数生成器\n",
    "\n",
    "# エキスパートに50エピソード分のプレイを行わせて、行動データを収集\n",
    "rollouts = rollout.rollout(\n",
    "    expert, # エキスパートポリシー\n",
    "    env,    # 環境\n",
    "    rollout.make_sample_until(min_timesteps=None, min_episodes=50),  # 50エピソード分のデータを収集するための条件\n",
    "    rng=rng,\n",
    ")\n",
    "\n",
    "# 軌跡を「遷移」（Transition）として扱いやすいようにフラットな構造に変換\n",
    "transitions = rollout.flatten_trajectories(rollouts)\n",
    "\n",
    "# 軌跡データの構造を確認\n",
    "print(\n",
    "    f\"\"\"\n",
    "    ロールアウト関数は{len(rollouts)}個の{type(rollouts[0])}のリストを生成しました。\n",
    "    このリストはフラット化後、{len(transitions)}個のトランザクションを含む{type(transitions)} オブジェクトに変換されました。\n",
    "    トランザクションオブジェクトには、次の配列が含まれています: {', '.join(transitions.__dict__.keys())}.\n",
    "    \"\"\"\n",
    ")"
   ]
  },
  {
   "cell_type": "markdown",
   "id": "a760526b",
   "metadata": {},
   "source": [
    "## step4. BCトレーナーの構築\n",
    "- 遷移を収集したら、動作の複製アルゴリズムを設定する"
   ]
  },
  {
   "cell_type": "code",
   "execution_count": 5,
   "id": "c4b0f905",
   "metadata": {},
   "outputs": [],
   "source": [
    "from imitation.algorithms import bc\n",
    "\n",
    "# 行動模倣（Behavior Cloning）アルゴリズムのインスタンスを作成\n",
    "# トレーニングデータとして、エキスパートのデモンストレーションデータを使用\n",
    "bc_trainer = bc.BC(\n",
    "    observation_space=env.observation_space,    # 環境の観測空間\n",
    "    action_space=env.action_space,              # 環境の行動空間（離散/連続）\n",
    "    demonstrations=transitions,                 # エキスパートのデモンストレーションデータ（遷移）\n",
    "    rng=rng,                                    # 乱数生成器 \n",
    "    device=\"cpu\",                               # 追加: すべてCPUで計算\n",
    ")"
   ]
  },
  {
   "cell_type": "markdown",
   "id": "1a66f8a3",
   "metadata": {},
   "source": [
    "- トレーニング前の模倣ポリシーの性能を確認する\n",
    "    - 当然、エキスパートには及ばなさい"
   ]
  },
  {
   "cell_type": "code",
   "execution_count": 6,
   "id": "eb5552c1",
   "metadata": {},
   "outputs": [
    {
     "name": "stdout",
     "output_type": "stream",
     "text": [
      "トレーニング前の報酬: -200.0\n"
     ]
    }
   ],
   "source": [
    "reward_before_training, _ = evaluate_policy(bc_trainer.policy, env, 10)\n",
    "print(f\"トレーニング前の報酬: {reward_before_training}\")"
   ]
  },
  {
   "cell_type": "markdown",
   "id": "6b2501ad",
   "metadata": {},
   "source": [
    "- トレーニング後は、エキスパートの報酬（500）に匹敵する"
   ]
  },
  {
   "cell_type": "code",
   "execution_count": 15,
   "id": "ad1e1d92",
   "metadata": {},
   "outputs": [
    {
     "name": "stderr",
     "output_type": "stream",
     "text": [
      "0batch [00:00, ?batch/s]"
     ]
    },
    {
     "name": "stdout",
     "output_type": "stream",
     "text": [
      "---------------------------------\n",
      "| batch_size        | 32        |\n",
      "| bc/               |           |\n",
      "|    batch          | 0         |\n",
      "|    ent_loss       | -9.47e-05 |\n",
      "|    entropy        | 0.0947    |\n",
      "|    epoch          | 0         |\n",
      "|    l2_loss        | 0         |\n",
      "|    l2_norm        | 229       |\n",
      "|    loss           | 0.0344    |\n",
      "|    neglogp        | 0.0345    |\n",
      "|    prob_true_act  | 0.97      |\n",
      "|    samples_so_far | 32        |\n",
      "---------------------------------\n"
     ]
    },
    {
     "name": "stderr",
     "output_type": "stream",
     "text": [
      "350batch [00:01, 311.84batch/s]\n"
     ]
    },
    {
     "name": "stdout",
     "output_type": "stream",
     "text": [
      "トレーニング後の報酬: -132.1\n"
     ]
    }
   ],
   "source": [
    "# 実際に模倣学習を行う\n",
    "# 1エポックのトレーニングを実行\n",
    "# エポック数を増やすとよりよく学習されるが、時間がかかる\n",
    "bc_trainer.train(n_epochs=1)  # 1エポックのトレーニング\n",
    "\n",
    "# トレーニング後のポリシーを評価\n",
    "reward_after_training, _ = evaluate_policy(bc_trainer.policy, env, 10)  \n",
    "print(f\"トレーニング後の報酬: {reward_after_training}\")"
   ]
  },
  {
   "cell_type": "markdown",
   "id": "f3826944",
   "metadata": {},
   "source": [
    "# トレーニング後のエージェントの動作を動画で可視化"
   ]
  },
  {
   "cell_type": "code",
   "execution_count": 24,
   "id": "f3ada04b",
   "metadata": {},
   "outputs": [
    {
     "name": "stdout",
     "output_type": "stream",
     "text": [
      "MoviePy - Building video /home/lilin/satoya_ws/study_deep_learn/StudyStableBaselines/workspace/Behavior_Cloning/videos/bc_mountaincar_video-step-0-to-step-600.mp4.\n",
      "MoviePy - Writing video /home/lilin/satoya_ws/study_deep_learn/StudyStableBaselines/workspace/Behavior_Cloning/videos/bc_mountaincar_video-step-0-to-step-600.mp4\n",
      "\n"
     ]
    },
    {
     "name": "stderr",
     "output_type": "stream",
     "text": [
      "                                                              "
     ]
    },
    {
     "name": "stdout",
     "output_type": "stream",
     "text": [
      "MoviePy - Done !\n",
      "MoviePy - video ready /home/lilin/satoya_ws/study_deep_learn/StudyStableBaselines/workspace/Behavior_Cloning/videos/bc_mountaincar_video-step-0-to-step-600.mp4\n",
      "動画を ./videos/ に保存しました。\n"
     ]
    },
    {
     "name": "stderr",
     "output_type": "stream",
     "text": [
      "\r"
     ]
    }
   ],
   "source": [
    "from stable_baselines3.common.vec_env import DummyVecEnv, VecVideoRecorder\n",
    "import os\n",
    "\n",
    "# 動画保存先ディレクトリ\n",
    "video_dir = \"./videos/\"\n",
    "os.makedirs(video_dir, exist_ok=True)\n",
    "\n",
    "# render_mode を \"rgb_array\" に設定して環境を作成\n",
    "video_env = DummyVecEnv([lambda: gym.make(\"MountainCar-v0\", render_mode=\"rgb_array\")])\n",
    "\n",
    "# VecVideoRecorder でラップ\n",
    "video_env = VecVideoRecorder(\n",
    "    video_env,\n",
    "    video_folder=video_dir,\n",
    "    record_video_trigger=lambda step: step == 0,\n",
    "    video_length=600,\n",
    "    name_prefix=\"bc_mountaincar_video\",\n",
    ")\n",
    "\n",
    "# ビヘイビアクローンされたエージェントのポリシーを使って実行\n",
    "obs = video_env.reset()\n",
    "done = False\n",
    "while not done:\n",
    "    action, _ = bc_trainer.policy.predict(obs)\n",
    "    obs, _, dones, _ = video_env.step(action)\n",
    "    done = dones[0]\n",
    "\n",
    "# 動画を保存\n",
    "video_env.close()\n",
    "print(f\"動画を {video_dir} に保存しました。\")\n"
   ]
  },
  {
   "cell_type": "code",
   "execution_count": 26,
   "id": "899fbdba",
   "metadata": {},
   "outputs": [
    {
     "data": {
      "text/html": [
       "<video controls  >\n",
       " <source src=\"data:video/mp4;base64,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\" type=\"video/mp4\">\n",
       " Your browser does not support the video tag.\n",
       " </video>"
      ],
      "text/plain": [
       "<IPython.core.display.Video object>"
      ]
     },
     "execution_count": 26,
     "metadata": {},
     "output_type": "execute_result"
    }
   ],
   "source": [
    "from IPython.display import Video\n",
    "\n",
    "# 動画ファイルのパス（例: bc_agent-step-0-to-step-500.mp4）\n",
    "video_path = os.path.join(video_dir, \"bc_mountaincar_video-step-0-to-step-600.mp4\")\n",
    "Video(video_path, embed=True)"
   ]
  },
  {
   "cell_type": "markdown",
   "id": "d520b2b5",
   "metadata": {},
   "source": [
    "## 備考\n",
    "- Behavior Cloningは「観測 -> 行動」を**教師あり学習**で学習する手法\n",
    "- エキスパートの行動履歴（観測と対応する行動）を教師データとして使用\n",
    "- 強化学習のように、「報酬」から学ぶのではなく「正解の行動」を直接学ぶ\n",
    "    - エキスパートの質や量が非常に重要\n",
    "- SEALSの環境は、観測の安定性が保証されており、模倣学習に最適"
   ]
  },
  {
   "cell_type": "markdown",
   "id": "0852533d",
   "metadata": {},
   "source": [
    "# 参考\n",
    "https://imitation.readthedocs.io/en/latest/tutorials/1_train_bc.html"
   ]
  },
  {
   "cell_type": "markdown",
   "id": "db8d9502",
   "metadata": {},
   "source": []
  }
 ],
 "metadata": {
  "kernelspec": {
   "display_name": "stable_baselines",
   "language": "python",
   "name": "python3"
  },
  "language_info": {
   "codemirror_mode": {
    "name": "ipython",
    "version": 3
   },
   "file_extension": ".py",
   "mimetype": "text/x-python",
   "name": "python",
   "nbconvert_exporter": "python",
   "pygments_lexer": "ipython3",
   "version": "3.10.18"
  }
 },
 "nbformat": 4,
 "nbformat_minor": 5
}

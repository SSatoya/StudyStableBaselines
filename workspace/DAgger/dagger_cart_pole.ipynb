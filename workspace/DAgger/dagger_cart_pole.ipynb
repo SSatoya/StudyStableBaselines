{
 "cells": [
  {
   "cell_type": "markdown",
   "id": "982ec6ea",
   "metadata": {},
   "source": [
    "# DAggerを使用した模倣学習"
   ]
  },
  {
   "cell_type": "markdown",
   "id": "d1d7efc1",
   "metadata": {},
   "source": [
    "- エキスパートの動作を模倣して学習するための一連の処理\n",
    "- 使用環境：CartPole（ポールが倒れないようにカートを動かす制御タスク）\n",
    "- 使用ライブラリ：imitation, stable-baselines3, gymnasium"
   ]
  },
  {
   "cell_type": "code",
   "execution_count": 43,
   "id": "c599922a",
   "metadata": {},
   "outputs": [],
   "source": [
    "import tempfile\n",
    "\n",
    "import numpy as np\n",
    "import gymnasium as gym\n",
    "from stable_baselines3.common.evaluation import evaluate_policy\n",
    "\n",
    "from imitation.algorithms import bc\n",
    "from imitation.algorithms.dagger import SimpleDAggerTrainer  # DAgger用\n",
    "from imitation.policies.serialize import load_policy\n",
    "from imitation.util.util import make_vec_env"
   ]
  },
  {
   "cell_type": "markdown",
   "id": "ace749a8",
   "metadata": {},
   "source": [
    "## step1. 環境準備とランダムシードの設定\n",
    "- CartPole(カートとポール)タスクの環境を作成\n",
    "- \"seals\"は、SEALSベンチマーク環境で安定している"
   ]
  },
  {
   "cell_type": "code",
   "execution_count": 44,
   "id": "bd8ec00b",
   "metadata": {},
   "outputs": [],
   "source": [
    "rng = np.random.default_rng(0)  # 再現性のある乱数生成器\n",
    "\n",
    "env = make_vec_env(\n",
    "    \"seals:seals/CartPole-v0\",  # 使用する環境\n",
    "    rng=rng,  # 乱数生成器を指定\n",
    ")"
   ]
  },
  {
   "cell_type": "markdown",
   "id": "ee30143b",
   "metadata": {},
   "source": [
    "## Step2. 事前学習済みのエキスパートポリシーをロード\n",
    "- Hugging Face上で公開されている、優れたPROアルゴリズムで学習されたポリシーをロード\n",
    "    - https://huggingface.co/HumanCompatibleAI\n",
    "    - これは「模倣するべきもの」（先生, エキスパート）\n",
    "\n",
    "- エキスパートが優秀か確認する\n",
    "- 通常、達成可能な最大値である500の報酬を取得できる"
   ]
  },
  {
   "cell_type": "code",
   "execution_count": 45,
   "id": "e805388a",
   "metadata": {},
   "outputs": [
    {
     "name": "stderr",
     "output_type": "stream",
     "text": [
      "/home/lilin/anaconda3/envs/stable_baselines/lib/python3.10/site-packages/stable_baselines3/common/on_policy_algorithm.py:150: UserWarning: You are trying to run PPO on the GPU, but it is primarily intended to run on the CPU when not using a CNN policy (you are using ActorCriticPolicy which should be a MlpPolicy). See https://github.com/DLR-RM/stable-baselines3/issues/1245 for more info. You can pass `device='cpu'` or `export CUDA_VISIBLE_DEVICES=` to force using the CPU.Note: The model will train, but the GPU utilization will be poor and the training might take longer than on CPU.\n",
      "  warnings.warn(\n"
     ]
    },
    {
     "name": "stdout",
     "output_type": "stream",
     "text": [
      "エキスパートの平均報酬: 500.00\n"
     ]
    }
   ],
   "source": [
    "expert = load_policy(\n",
    "    \"ppo-huggingface\",                  # 使用するポリシーの名前\n",
    "    organization=\"HumanCompatibleAI\",   # Hugging Faceの組織名\n",
    "    env_name=\"seals-CartPole-v0\",       # 環境名\n",
    "    venv=env,                           # 環境を指定  \n",
    ")\n",
    "\n",
    "# エキスパートポリシーの性能を確認（行動模倣する価値があるか？）\n",
    "# CartPole環境では最大報酬が500。これに近いスコアを出せていれば、十分に優秀。\n",
    "reward, _ = evaluate_policy(expert, env, 10)  # 10エピソード評価\n",
    "print(f\"エキスパートの平均報酬: {reward:.2f}\")"
   ]
  },
  {
   "cell_type": "markdown",
   "id": "8a6db701",
   "metadata": {},
   "source": [
    "## step4. 初期のBCを使用した模倣学習モデル\n",
    "- Behavior Cloning（BC）を使用して、教師あり学習ベースの模倣学習を行う\n",
    "- BCでは、分布シフト問題が発生する可能性がある。"
   ]
  },
  {
   "cell_type": "code",
   "execution_count": 46,
   "id": "ae327c7d",
   "metadata": {},
   "outputs": [],
   "source": [
    "bc_trainer = bc.BC(\n",
    "    observation_space=env.observation_space,    # 観測空間\n",
    "    action_space=env.action_space,              # 行動空間\n",
    "    rng=rng,                                    # 乱数生成器    \n",
    "    device=\"cpu\",                               # デバイス（CPUまたはGPU）\n",
    ")"
   ]
  },
  {
   "cell_type": "markdown",
   "id": "56ae60e9",
   "metadata": {},
   "source": [
    "## step4. DAggerによる模倣学習\n",
    "- SimpleDAggerTrainer を使い、DAggerによる学習を8000ステップ実行\n",
    "- DAggerでは学習中にエキスパートの正しい行動を再度聞きながらデータを追加し、改善"
   ]
  },
  {
   "cell_type": "code",
   "execution_count": 47,
   "id": "84271ac5",
   "metadata": {},
   "outputs": [
    {
     "name": "stdout",
     "output_type": "stream",
     "text": [
      "一時保存ディレクトリ：/tmp/dagger_example_afl42mec\n",
      "トレーニング前のエキスパートポリシーの評価を行います...\n",
      "トレーニング前のエキスパートの平均報酬: 101.40\n",
      "DAggerトレーニングを開始します...\n"
     ]
    },
    {
     "name": "stderr",
     "output_type": "stream",
     "text": [
      "Saving the dataset (1/1 shards): 100%|██████████| 1/1 [00:00<00:00, 267.46 examples/s]\n",
      "Saving the dataset (1/1 shards): 100%|██████████| 1/1 [00:00<00:00, 294.19 examples/s]\n",
      "Saving the dataset (1/1 shards): 100%|██████████| 1/1 [00:00<00:00, 259.00 examples/s]\n",
      "Saving the dataset (1/1 shards): 100%|██████████| 1/1 [00:00<00:00, 274.55 examples/s]\n",
      "Saving the dataset (1/1 shards): 100%|██████████| 1/1 [00:00<00:00, 259.93 examples/s]\n",
      "Saving the dataset (1/1 shards): 100%|██████████| 1/1 [00:00<00:00, 265.63 examples/s]\n",
      "Saving the dataset (1/1 shards): 100%|██████████| 1/1 [00:00<00:00, 282.60 examples/s]\n",
      "Saving the dataset (1/1 shards): 100%|██████████| 1/1 [00:00<00:00, 264.08 examples/s]\n",
      "0batch [00:00, ?batch/s]"
     ]
    },
    {
     "name": "stdout",
     "output_type": "stream",
     "text": [
      "---------------------------------\n",
      "| batch_size        | 32        |\n",
      "| bc/               |           |\n",
      "|    batch          | 0         |\n",
      "|    ent_loss       | -0.000693 |\n",
      "|    entropy        | 0.693     |\n",
      "|    epoch          | 0         |\n",
      "|    l2_loss        | 0         |\n",
      "|    l2_norm        | 72.5      |\n",
      "|    loss           | 0.692     |\n",
      "|    neglogp        | 0.693     |\n",
      "|    prob_true_act  | 0.5       |\n",
      "|    samples_so_far | 32        |\n",
      "| rollout/          |           |\n",
      "|    return_max     | 44        |\n",
      "|    return_mean    | 27.1      |\n",
      "|    return_min     | 17        |\n",
      "|    return_std     | 8.13      |\n",
      "---------------------------------\n"
     ]
    },
    {
     "name": "stderr",
     "output_type": "stream",
     "text": [
      "500batch [00:01, 284.49batch/s]\n",
      "Saving the dataset (1/1 shards): 100%|██████████| 1/1 [00:00<00:00, 270.06 examples/s]\n",
      "Saving the dataset (1/1 shards): 100%|██████████| 1/1 [00:00<00:00, 247.88 examples/s]\n",
      "Saving the dataset (1/1 shards): 100%|██████████| 1/1 [00:00<00:00, 258.81 examples/s]\n",
      "Saving the dataset (1/1 shards): 100%|██████████| 1/1 [00:00<00:00, 271.58 examples/s]\n",
      "Saving the dataset (1/1 shards): 100%|██████████| 1/1 [00:00<00:00, 273.46 examples/s]\n",
      "Saving the dataset (1/1 shards): 100%|██████████| 1/1 [00:00<00:00, 277.25 examples/s]\n",
      "Saving the dataset (1/1 shards): 100%|██████████| 1/1 [00:00<00:00, 274.68 examples/s]\n",
      "Saving the dataset (1/1 shards): 100%|██████████| 1/1 [00:00<00:00, 277.13 examples/s]\n",
      "0batch [00:00, ?batch/s]"
     ]
    },
    {
     "name": "stdout",
     "output_type": "stream",
     "text": [
      "---------------------------------\n",
      "| batch_size        | 32        |\n",
      "| bc/               |           |\n",
      "|    batch          | 0         |\n",
      "|    ent_loss       | -0.000339 |\n",
      "|    entropy        | 0.339     |\n",
      "|    epoch          | 0         |\n",
      "|    l2_loss        | 0         |\n",
      "|    l2_norm        | 98        |\n",
      "|    loss           | 0.326     |\n",
      "|    neglogp        | 0.326     |\n",
      "|    prob_true_act  | 0.767     |\n",
      "|    samples_so_far | 32        |\n",
      "| rollout/          |           |\n",
      "|    return_max     | 422       |\n",
      "|    return_mean    | 361       |\n",
      "|    return_min     | 239       |\n",
      "|    return_std     | 56.3      |\n",
      "---------------------------------\n"
     ]
    },
    {
     "name": "stderr",
     "output_type": "stream",
     "text": [
      "466batch [00:01, 349.71batch/s]"
     ]
    },
    {
     "name": "stdout",
     "output_type": "stream",
     "text": [
      "---------------------------------\n",
      "| batch_size        | 32        |\n",
      "| bc/               |           |\n",
      "|    batch          | 500       |\n",
      "|    ent_loss       | -0.000367 |\n",
      "|    entropy        | 0.367     |\n",
      "|    epoch          | 2         |\n",
      "|    l2_loss        | 0         |\n",
      "|    l2_norm        | 161       |\n",
      "|    loss           | 0.256     |\n",
      "|    neglogp        | 0.257     |\n",
      "|    prob_true_act  | 0.797     |\n",
      "|    samples_so_far | 16032     |\n",
      "| rollout/          |           |\n",
      "|    return_max     | 500       |\n",
      "|    return_mean    | 500       |\n",
      "|    return_min     | 500       |\n",
      "|    return_std     | 0         |\n",
      "---------------------------------\n"
     ]
    },
    {
     "name": "stderr",
     "output_type": "stream",
     "text": [
      "1000batch [00:03, 283.34batch/s]\n"
     ]
    }
   ],
   "source": [
    "with tempfile.TemporaryDirectory(prefix=\"dagger_example_\") as tmpdir:  # 一時ディレクトリを作成\n",
    "    print(f\"一時保存ディレクトリ：{tmpdir}\")\n",
    "\n",
    "    # DAggerトレーナーの初期化\n",
    "    dagger_trainer = SimpleDAggerTrainer(  \n",
    "        venv=env,\n",
    "        scratch_dir=tmpdir,\n",
    "        expert_policy=expert,\n",
    "        bc_trainer=bc_trainer,\n",
    "        rng=rng,\n",
    "    )\n",
    "\n",
    "    print(\"トレーニング前のエキスパートポリシーの評価を行います...\")\n",
    "    reward_before, _ = evaluate_policy(dagger_trainer.policy, env, 10)  # トレーニング前の評価\n",
    "    print(f\"トレーニング前のエキスパートの平均報酬: {reward_before:.2f}\")\n",
    "\n",
    "    # DAggerのトレーニングを実行\n",
    "    # 8000ステップのトレーニングを行う\n",
    "    print(\"DAggerトレーニングを開始します...\")\n",
    "    dagger_trainer.train(8_000)"
   ]
  },
  {
   "cell_type": "markdown",
   "id": "bea85c92",
   "metadata": {},
   "source": [
    "- **上の結果の説明**<br>\n",
    "- データセット保存ログ\n",
    "    `Saving the dataset (1/1 shards): 100%|██████████| ...`\n",
    "    - 各回、環境でのプレイデータをエキスパートから収集し、保存\n",
    "    - shardはデータを分割して保存する単位\n",
    "\n",
    "- 進捗ログ\n",
    "\n",
    "| 項目                         | 意味                         |\n",
    "| -------------------------- | -------------------------- |\n",
    "| `batch_size`               | 一度に学習に使うサンプル数（32個）         |\n",
    "| `loss`                     | モデルの誤差（低いほどよい）             |\n",
    "| `neglogp`                  | 正解行動の負の対数確率（= ロスとほぼ同義）     |\n",
    "| `prob_true_act`            | 正解行動を予測できた確率（高いほど良い）       |\n",
    "| `entropy`                  | ポリシーのランダム性（0.693 = 完全ランダム） |\n",
    "| `return_mean`              | モデルによるプレイ時の平均スコア           |\n",
    "| `return_max`, `return_min` | プレイ中に得た最高・最低スコア            |\n",
    "| `samples_so_far`           | 今までに使用した合計サンプル数            |\n",
    "- 初回のデータセットを保存して学習したとき\n",
    "    - `return_mean`（プレイ時の平均スコア）が27.1と低スコアであり、失敗することが多かった。\n",
    "- その状態で「正しい行動」をエキスパートに確認\n",
    "    - 学習者が経験した軌道上の状態に対して、エキスパートの行動を記録（データセットを保存）して新しい学習データに追加する\n",
    "- 新たなデータセットで再度学習\n",
    "    - 初回の`return_mean`は、361と先ほどよりも高スコア\n",
    "    - 最終的な`return_mean`は500と最高得点を得られている\n"
   ]
  },
  {
   "cell_type": "markdown",
   "id": "21b2d60b",
   "metadata": {},
   "source": [
    "- 最終的に学習したポリシー（方策）を10回テストして、平均報酬を表示"
   ]
  },
  {
   "cell_type": "code",
   "execution_count": 48,
   "id": "4c2c5410",
   "metadata": {},
   "outputs": [
    {
     "name": "stdout",
     "output_type": "stream",
     "text": [
      "トレーニング後の報酬: 500.0\n"
     ]
    }
   ],
   "source": [
    "reward, _ = evaluate_policy(dagger_trainer.policy, env, 10)\n",
    "print(\"トレーニング後の報酬:\", reward)"
   ]
  },
  {
   "cell_type": "markdown",
   "id": "31bd5ad0",
   "metadata": {},
   "source": [
    "# トレーニング後のエージェントの動作を動画で可視化\n",
    "- 学習させる前と後で動画を出力してみると面白いかも"
   ]
  },
  {
   "cell_type": "code",
   "execution_count": 49,
   "id": "21054dbd",
   "metadata": {},
   "outputs": [
    {
     "name": "stdout",
     "output_type": "stream",
     "text": [
      "Saving video to /home/lilin/satoya_ws/study_deep_learn/StudyStableBaselines/workspace/DAgger/videos/dagger_cartpole-step-0-to-step-500.mp4\n",
      "MoviePy - Building video /home/lilin/satoya_ws/study_deep_learn/StudyStableBaselines/workspace/DAgger/videos/dagger_cartpole-step-0-to-step-500.mp4.\n",
      "MoviePy - Writing video /home/lilin/satoya_ws/study_deep_learn/StudyStableBaselines/workspace/DAgger/videos/dagger_cartpole-step-0-to-step-500.mp4\n",
      "\n"
     ]
    },
    {
     "name": "stderr",
     "output_type": "stream",
     "text": [
      "                                                                          "
     ]
    },
    {
     "name": "stdout",
     "output_type": "stream",
     "text": [
      "MoviePy - Done !\n",
      "MoviePy - video ready /home/lilin/satoya_ws/study_deep_learn/StudyStableBaselines/workspace/DAgger/videos/dagger_cartpole-step-0-to-step-500.mp4\n",
      "動画を ./videos/ に保存しました。\n"
     ]
    },
    {
     "name": "stderr",
     "output_type": "stream",
     "text": [
      "\r"
     ]
    }
   ],
   "source": [
    "from stable_baselines3.common.vec_env import DummyVecEnv, VecVideoRecorder\n",
    "import os\n",
    "\n",
    "# 動画保存先ディレクトリ\n",
    "video_dir = \"./videos/\"\n",
    "os.makedirs(video_dir, exist_ok=True)\n",
    "\n",
    "# render_mode を \"rgb_array\" に設定して環境を作成\n",
    "video_env = DummyVecEnv([lambda: gym.make(\"CartPole-v1\", render_mode=\"rgb_array\")])\n",
    "\n",
    "# VecVideoRecorder でラップ\n",
    "video_env = VecVideoRecorder(\n",
    "    video_env,\n",
    "    video_folder=video_dir,\n",
    "    record_video_trigger=lambda step: step == 0,\n",
    "    video_length=500,\n",
    "    name_prefix=\"dagger_cartpole\",\n",
    ")\n",
    "\n",
    "# ビヘイビアクローンされたエージェントのポリシーを使って実行\n",
    "obs = video_env.reset()\n",
    "done = False\n",
    "while not done:\n",
    "    action, _ = dagger_trainer.policy.predict(obs)\n",
    "    obs, _, dones, _ = video_env.step(action)\n",
    "    done = dones[0]\n",
    "\n",
    "# 動画を保存\n",
    "video_env.close()\n",
    "print(f\"動画を {video_dir} に保存しました。\")\n"
   ]
  },
  {
   "cell_type": "code",
   "execution_count": 50,
   "id": "4ee23d43",
   "metadata": {},
   "outputs": [
    {
     "data": {
      "text/html": [
       "<video controls  >\n",
       " <source src=\"data:video/mp4;base64,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\" type=\"video/mp4\">\n",
       " Your browser does not support the video tag.\n",
       " </video>"
      ],
      "text/plain": [
       "<IPython.core.display.Video object>"
      ]
     },
     "execution_count": 50,
     "metadata": {},
     "output_type": "execute_result"
    }
   ],
   "source": [
    "from IPython.display import Video\n",
    "\n",
    "# 動画ファイルのパス（例: bc_agent-step-0-to-step-500.mp4）\n",
    "video_path = os.path.join(video_dir, \"dagger_cartpole-step-0-to-step-500.mp4\")\n",
    "Video(video_path, embed=True)"
   ]
  },
  {
   "cell_type": "code",
   "execution_count": null,
   "id": "601717a4",
   "metadata": {},
   "outputs": [],
   "source": []
  }
 ],
 "metadata": {
  "kernelspec": {
   "display_name": "stable_baselines",
   "language": "python",
   "name": "python3"
  },
  "language_info": {
   "codemirror_mode": {
    "name": "ipython",
    "version": 3
   },
   "file_extension": ".py",
   "mimetype": "text/x-python",
   "name": "python",
   "nbconvert_exporter": "python",
   "pygments_lexer": "ipython3",
   "version": "3.10.18"
  }
 },
 "nbformat": 4,
 "nbformat_minor": 5
}
